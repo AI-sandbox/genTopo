{
 "cells": [
  {
   "cell_type": "code",
   "execution_count": 1,
   "metadata": {},
   "outputs": [
    {
     "name": "stderr",
     "output_type": "stream",
     "text": [
      "\n",
      "Bad key \"text.kerning_factor\" on line 4 in\n",
      "/home/harryem/anaconda3/envs/bats_p37/lib/python3.7/site-packages/matplotlib/mpl-data/stylelib/_classic_test_patch.mplstyle.\n",
      "You probably need to get an updated matplotlibrc file from\n",
      "https://github.com/matplotlib/matplotlib/blob/v3.1.3/matplotlibrc.template\n",
      "or from the matplotlib source distribution\n"
     ]
    }
   ],
   "source": [
    "%matplotlib inline \n",
    "    \n",
    "import numpy as np\n",
    "import pandas as pd\n",
    "import matplotlib.pyplot as plt"
   ]
  },
  {
   "cell_type": "code",
   "execution_count": 5,
   "metadata": {},
   "outputs": [],
   "source": [
    "labels = pd.read_csv('~/../projects/HimalGenAsia/HimalGen.popinfo.csv',sep=',')"
   ]
  },
  {
   "cell_type": "code",
   "execution_count": 7,
   "metadata": {},
   "outputs": [
    {
     "name": "stdout",
     "output_type": "stream",
     "text": [
      "(2748, 27)\n"
     ]
    }
   ],
   "source": [
    "print(labels.shape)"
   ]
  },
  {
   "cell_type": "code",
   "execution_count": 8,
   "metadata": {},
   "outputs": [
    {
     "data": {
      "text/html": [
       "<div>\n",
       "<style scoped>\n",
       "    .dataframe tbody tr th:only-of-type {\n",
       "        vertical-align: middle;\n",
       "    }\n",
       "\n",
       "    .dataframe tbody tr th {\n",
       "        vertical-align: top;\n",
       "    }\n",
       "\n",
       "    .dataframe thead th {\n",
       "        text-align: right;\n",
       "    }\n",
       "</style>\n",
       "<table border=\"1\" class=\"dataframe\">\n",
       "  <thead>\n",
       "    <tr style=\"text-align: right;\">\n",
       "      <th></th>\n",
       "      <th>FID</th>\n",
       "      <th>FAMID</th>\n",
       "      <th>IID</th>\n",
       "      <th>PID</th>\n",
       "      <th>MID</th>\n",
       "      <th>SEX</th>\n",
       "      <th>PHENOTYPE</th>\n",
       "      <th>HimalGen_indorder</th>\n",
       "      <th>POP</th>\n",
       "      <th>POP_SIMPLE</th>\n",
       "      <th>...</th>\n",
       "      <th>POP_COLOR</th>\n",
       "      <th>SPOP_COLOR</th>\n",
       "      <th>Region</th>\n",
       "      <th>Language</th>\n",
       "      <th>Language_family</th>\n",
       "      <th>Study</th>\n",
       "      <th>Chip</th>\n",
       "      <th>LAT</th>\n",
       "      <th>LONG</th>\n",
       "      <th>ALT</th>\n",
       "    </tr>\n",
       "  </thead>\n",
       "  <tbody>\n",
       "    <tr>\n",
       "      <th>0</th>\n",
       "      <td>HGDP00099</td>\n",
       "      <td>HGDP00099</td>\n",
       "      <td>HGDP00099</td>\n",
       "      <td>0</td>\n",
       "      <td>0</td>\n",
       "      <td>1</td>\n",
       "      <td>-9</td>\n",
       "      <td>1965</td>\n",
       "      <td>HAZ</td>\n",
       "      <td>Hazara</td>\n",
       "      <td>...</td>\n",
       "      <td>#aa2700</td>\n",
       "      <td>#vv27zz</td>\n",
       "      <td>Himalaya</td>\n",
       "      <td>NaN</td>\n",
       "      <td>Indo-European</td>\n",
       "      <td>NaN</td>\n",
       "      <td>MEGA</td>\n",
       "      <td>NaN</td>\n",
       "      <td>NaN</td>\n",
       "      <td>NaN</td>\n",
       "    </tr>\n",
       "    <tr>\n",
       "      <th>1</th>\n",
       "      <td>HGDP00100</td>\n",
       "      <td>HGDP00100</td>\n",
       "      <td>HGDP00100</td>\n",
       "      <td>0</td>\n",
       "      <td>0</td>\n",
       "      <td>1</td>\n",
       "      <td>-9</td>\n",
       "      <td>1966</td>\n",
       "      <td>HAZ</td>\n",
       "      <td>Hazara</td>\n",
       "      <td>...</td>\n",
       "      <td>#aa2700</td>\n",
       "      <td>#vv27zz</td>\n",
       "      <td>Himalaya</td>\n",
       "      <td>NaN</td>\n",
       "      <td>Indo-European</td>\n",
       "      <td>NaN</td>\n",
       "      <td>MEGA</td>\n",
       "      <td>NaN</td>\n",
       "      <td>NaN</td>\n",
       "      <td>NaN</td>\n",
       "    </tr>\n",
       "    <tr>\n",
       "      <th>2</th>\n",
       "      <td>HGDP00102</td>\n",
       "      <td>HGDP00102</td>\n",
       "      <td>HGDP00102</td>\n",
       "      <td>0</td>\n",
       "      <td>0</td>\n",
       "      <td>1</td>\n",
       "      <td>-9</td>\n",
       "      <td>1967</td>\n",
       "      <td>HAZ</td>\n",
       "      <td>Hazara</td>\n",
       "      <td>...</td>\n",
       "      <td>#aa2700</td>\n",
       "      <td>#vv27zz</td>\n",
       "      <td>Himalaya</td>\n",
       "      <td>NaN</td>\n",
       "      <td>Indo-European</td>\n",
       "      <td>NaN</td>\n",
       "      <td>MEGA</td>\n",
       "      <td>NaN</td>\n",
       "      <td>NaN</td>\n",
       "      <td>NaN</td>\n",
       "    </tr>\n",
       "    <tr>\n",
       "      <th>3</th>\n",
       "      <td>HGDP00103</td>\n",
       "      <td>HGDP00103</td>\n",
       "      <td>HGDP00103</td>\n",
       "      <td>0</td>\n",
       "      <td>0</td>\n",
       "      <td>1</td>\n",
       "      <td>-9</td>\n",
       "      <td>1968</td>\n",
       "      <td>HAZ</td>\n",
       "      <td>Hazara</td>\n",
       "      <td>...</td>\n",
       "      <td>#aa2700</td>\n",
       "      <td>#vv27zz</td>\n",
       "      <td>Himalaya</td>\n",
       "      <td>NaN</td>\n",
       "      <td>Indo-European</td>\n",
       "      <td>NaN</td>\n",
       "      <td>MEGA</td>\n",
       "      <td>NaN</td>\n",
       "      <td>NaN</td>\n",
       "      <td>NaN</td>\n",
       "    </tr>\n",
       "    <tr>\n",
       "      <th>4</th>\n",
       "      <td>HGDP00104</td>\n",
       "      <td>HGDP00104</td>\n",
       "      <td>HGDP00104</td>\n",
       "      <td>0</td>\n",
       "      <td>0</td>\n",
       "      <td>1</td>\n",
       "      <td>-9</td>\n",
       "      <td>1969</td>\n",
       "      <td>HAZ</td>\n",
       "      <td>Hazara</td>\n",
       "      <td>...</td>\n",
       "      <td>#aa2700</td>\n",
       "      <td>#vv27zz</td>\n",
       "      <td>Himalaya</td>\n",
       "      <td>NaN</td>\n",
       "      <td>Indo-European</td>\n",
       "      <td>NaN</td>\n",
       "      <td>MEGA</td>\n",
       "      <td>NaN</td>\n",
       "      <td>NaN</td>\n",
       "      <td>NaN</td>\n",
       "    </tr>\n",
       "  </tbody>\n",
       "</table>\n",
       "<p>5 rows × 27 columns</p>\n",
       "</div>"
      ],
      "text/plain": [
       "         FID      FAMID        IID  PID  MID  SEX  PHENOTYPE  \\\n",
       "0  HGDP00099  HGDP00099  HGDP00099    0    0    1         -9   \n",
       "1  HGDP00100  HGDP00100  HGDP00100    0    0    1         -9   \n",
       "2  HGDP00102  HGDP00102  HGDP00102    0    0    1         -9   \n",
       "3  HGDP00103  HGDP00103  HGDP00103    0    0    1         -9   \n",
       "4  HGDP00104  HGDP00104  HGDP00104    0    0    1         -9   \n",
       "\n",
       "   HimalGen_indorder  POP POP_SIMPLE  ... POP_COLOR SPOP_COLOR    Region  \\\n",
       "0               1965  HAZ     Hazara  ...   #aa2700    #vv27zz  Himalaya   \n",
       "1               1966  HAZ     Hazara  ...   #aa2700    #vv27zz  Himalaya   \n",
       "2               1967  HAZ     Hazara  ...   #aa2700    #vv27zz  Himalaya   \n",
       "3               1968  HAZ     Hazara  ...   #aa2700    #vv27zz  Himalaya   \n",
       "4               1969  HAZ     Hazara  ...   #aa2700    #vv27zz  Himalaya   \n",
       "\n",
       "  Language  Language_family  Study  Chip LAT LONG ALT  \n",
       "0      NaN    Indo-European    NaN  MEGA NaN  NaN NaN  \n",
       "1      NaN    Indo-European    NaN  MEGA NaN  NaN NaN  \n",
       "2      NaN    Indo-European    NaN  MEGA NaN  NaN NaN  \n",
       "3      NaN    Indo-European    NaN  MEGA NaN  NaN NaN  \n",
       "4      NaN    Indo-European    NaN  MEGA NaN  NaN NaN  \n",
       "\n",
       "[5 rows x 27 columns]"
      ]
     },
     "execution_count": 8,
     "metadata": {},
     "output_type": "execute_result"
    }
   ],
   "source": [
    "labels.head()"
   ]
  },
  {
   "cell_type": "code",
   "execution_count": 13,
   "metadata": {},
   "outputs": [
    {
     "data": {
      "text/plain": [
       "Index(['FID', 'FAMID', 'IID', 'PID', 'MID', 'SEX', 'PHENOTYPE',\n",
       "       'HimalGen_indorder', 'POP', 'POP_SIMPLE', 'Country_origin',\n",
       "       'Country_sampled', 'SPOP', 'CONTINENT', 'ORDER', 'POP_ORDER',\n",
       "       'SPOP_ORDER', 'POP_COLOR', 'SPOP_COLOR', 'Region', 'Language',\n",
       "       'Language_family', 'Study', 'Chip', 'LAT', 'LONG', 'ALT'],\n",
       "      dtype='object')"
      ]
     },
     "execution_count": 13,
     "metadata": {},
     "output_type": "execute_result"
    }
   ],
   "source": [
    "labels.columns"
   ]
  },
  {
   "cell_type": "code",
   "execution_count": 10,
   "metadata": {},
   "outputs": [
    {
     "data": {
      "text/plain": [
       "Non_Himalaya    1598\n",
       "Himalaya        1150\n",
       "Name: Region, dtype: int64"
      ]
     },
     "execution_count": 10,
     "metadata": {},
     "output_type": "execute_result"
    }
   ],
   "source": [
    "labels.Region.value_counts()"
   ]
  },
  {
   "cell_type": "code",
   "execution_count": 18,
   "metadata": {},
   "outputs": [
    {
     "name": "stdout",
     "output_type": "stream",
     "text": [
      "(140,)\n"
     ]
    },
    {
     "data": {
      "text/plain": [
       "CHB    147\n",
       "JPT    132\n",
       "CHS    105\n",
       "GIH    103\n",
       "CDX    103\n",
       "      ... \n",
       "MGH      1\n",
       "BHI      1\n",
       "PUM      1\n",
       "DHR      1\n",
       "UTB      1\n",
       "Name: POP, Length: 140, dtype: int64"
      ]
     },
     "execution_count": 18,
     "metadata": {},
     "output_type": "execute_result"
    }
   ],
   "source": [
    "print(labels.POP.unique().shape)\n",
    "labels.POP.value_counts()"
   ]
  },
  {
   "cell_type": "code",
   "execution_count": 19,
   "metadata": {},
   "outputs": [
    {
     "name": "stdout",
     "output_type": "stream",
     "text": [
      "(150,)\n"
     ]
    },
    {
     "data": {
      "text/plain": [
       "Japanese                132\n",
       "Southern Han Chinese    105\n",
       "Han Chinese             103\n",
       "Gujarati Indian         103\n",
       "Indian Telugu           102\n",
       "                       ... \n",
       "Tharu_Other               1\n",
       "Meena                     1\n",
       "Tharu_Rajatiyaa           1\n",
       "Raji_Purbiya              1\n",
       "Kurmi                     1\n",
       "Name: POP_SIMPLE, Length: 150, dtype: int64"
      ]
     },
     "execution_count": 19,
     "metadata": {},
     "output_type": "execute_result"
    }
   ],
   "source": [
    "print(labels.POP_SIMPLE.unique().shape)\n",
    "labels.POP_SIMPLE.value_counts()"
   ]
  },
  {
   "cell_type": "code",
   "execution_count": 26,
   "metadata": {},
   "outputs": [
    {
     "data": {
      "text/plain": [
       "[('FID', (1764,)),\n",
       " ('FAMID', (2748,)),\n",
       " ('IID', (2748,)),\n",
       " ('PID', (1,)),\n",
       " ('MID', (1,)),\n",
       " ('SEX', (3,)),\n",
       " ('PHENOTYPE', (2,)),\n",
       " ('HimalGen_indorder', (2748,)),\n",
       " ('POP', (140,)),\n",
       " ('POP_SIMPLE', (150,)),\n",
       " ('Country_origin', (18,)),\n",
       " ('Country_sampled', (18,)),\n",
       " ('SPOP', (5,)),\n",
       " ('CONTINENT', (4,)),\n",
       " ('ORDER', (2747,)),\n",
       " ('POP_ORDER', (12,)),\n",
       " ('SPOP_ORDER', (3,)),\n",
       " ('POP_COLOR', (12,)),\n",
       " ('SPOP_COLOR', (4,)),\n",
       " ('Region', (2,)),\n",
       " ('Language', (6,)),\n",
       " ('Language_family', (15,)),\n",
       " ('Study', (4,)),\n",
       " ('Chip', (2,)),\n",
       " ('LAT', (44,)),\n",
       " ('LONG', (46,)),\n",
       " ('ALT', (44,))]"
      ]
     },
     "execution_count": 26,
     "metadata": {},
     "output_type": "execute_result"
    }
   ],
   "source": [
    "[(col, labels[col].unique().shape) for col in labels.columns]"
   ]
  },
  {
   "cell_type": "code",
   "execution_count": null,
   "metadata": {},
   "outputs": [],
   "source": []
  }
 ],
 "metadata": {
  "kernelspec": {
   "display_name": "Python 3",
   "language": "python",
   "name": "python3"
  },
  "language_info": {
   "codemirror_mode": {
    "name": "ipython",
    "version": 3
   },
   "file_extension": ".py",
   "mimetype": "text/x-python",
   "name": "python",
   "nbconvert_exporter": "python",
   "pygments_lexer": "ipython3",
   "version": "3.7.7"
  }
 },
 "nbformat": 4,
 "nbformat_minor": 4
}
