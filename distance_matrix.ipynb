{
 "cells": [
  {
   "cell_type": "code",
   "execution_count": 1,
   "metadata": {},
   "outputs": [
    {
     "name": "stderr",
     "output_type": "stream",
     "text": [
      "\n",
      "Bad key \"text.kerning_factor\" on line 4 in\n",
      "/home/harryem/anaconda3/envs/bats_p37/lib/python3.7/site-packages/matplotlib/mpl-data/stylelib/_classic_test_patch.mplstyle.\n",
      "You probably need to get an updated matplotlibrc file from\n",
      "https://github.com/matplotlib/matplotlib/blob/v3.1.3/matplotlibrc.template\n",
      "or from the matplotlib source distribution\n"
     ]
    },
    {
     "name": "stdout",
     "output_type": "stream",
     "text": [
      "Populating the interactive namespace from numpy and matplotlib\n"
     ]
    }
   ],
   "source": [
    "%pylab inline"
   ]
  },
  {
   "cell_type": "code",
   "execution_count": 2,
   "metadata": {},
   "outputs": [],
   "source": [
    "import matplotlib.pyplot as plt\n",
    "from ripser import ripser\n",
    "from persim import plot_diagrams\n",
    "import tadasets\n",
    "import time\n",
    "from scipy.spatial.distance import pdist, squareform"
   ]
  },
  {
   "cell_type": "code",
   "execution_count": 3,
   "metadata": {},
   "outputs": [
    {
     "data": {
      "image/png": "[encoded data removed]",
      "text/plain": [
       "<Figure size 432x288 with 1 Axes>"
      ]
     },
     "metadata": {
      "needs_background": "light"
     },
     "output_type": "display_data"
    }
   ],
   "source": [
    "np.random.seed(9)\n",
    "x = tadasets.dsphere(n=1000, d=1, noise=0.1)\n",
    "\n",
    "plt.scatter(x[:, 0], x[:, 1])\n",
    "plt.axis('equal')\n",
    "plt.show()"
   ]
  },
  {
   "cell_type": "code",
   "execution_count": 4,
   "metadata": {},
   "outputs": [],
   "source": [
    "D = pdist(x, 'euclidean')\n",
    "D = squareform(D)"
   ]
  },
  {
   "cell_type": "code",
   "execution_count": 5,
   "metadata": {},
   "outputs": [
    {
     "name": "stdout",
     "output_type": "stream",
     "text": [
      "pointcloud: 9.525873899459839 sec.\n"
     ]
    }
   ],
   "source": [
    "btime = time.time()\n",
    "result = ripser(x, coeff=2, do_cocycles=True)\n",
    "etime = time.time()\n",
    "pc_time = etime - btime\n",
    "print('pointcloud: {} sec.'.format(pc_time))"
   ]
  },
  {
   "cell_type": "code",
   "execution_count": 6,
   "metadata": {},
   "outputs": [
    {
     "name": "stdout",
     "output_type": "stream",
     "text": [
      "distance matrix: 11.94050121307373 sec.\n"
     ]
    }
   ],
   "source": [
    "btime = time.time()\n",
    "result = ripser(D, coeff=2, do_cocycles=True, distance_matrix=True)\n",
    "etime = time.time()\n",
    "d_time = etime - btime\n",
    "print('distance matrix: {} sec.'.format(d_time))"
   ]
  },
  {
   "cell_type": "code",
   "execution_count": 7,
   "metadata": {},
   "outputs": [
    {
     "data": {
      "image/png": "[encoded data removed]",
      "text/plain": [
       "<Figure size 432x288 with 1 Axes>"
      ]
     },
     "metadata": {
      "needs_background": "light"
     },
     "output_type": "display_data"
    }
   ],
   "source": [
    "diagrams = result['dgms']\n",
    "dgm1 = diagrams[1]\n",
    "idx = np.argmax(dgm1[:, 1] - dgm1[:, 0])\n",
    "plot_diagrams(diagrams, show = False)\n",
    "plt.scatter(dgm1[idx, 0], dgm1[idx, 1], 20, 'k', 'x')\n",
    "plt.title(\"Max 1D birth = %.3g, death = %.3g\"%(dgm1[idx, 0], dgm1[idx, 1]))\n",
    "plt.show()"
   ]
  },
  {
   "cell_type": "markdown",
   "metadata": {},
   "source": [
    "We want to create a diagram\n",
    "\n",
    "$Rips(D2, r0) \\subseteq Rips(D1, r) \\subseteq Rips(D2, r1)$"
   ]
  },
  {
   "cell_type": "code",
   "execution_count": 14,
   "metadata": {},
   "outputs": [],
   "source": [
    "thresh = 0.5\n",
    "D1 = squareform(pdist(x, 'euclidean'))\n",
    "D2 = squareform(pdist(x, 'cityblock'))"
   ]
  },
  {
   "cell_type": "code",
   "execution_count": 15,
   "metadata": {},
   "outputs": [
    {
     "data": {
      "text/plain": [
       "0.706901711708581"
      ]
     },
     "execution_count": 15,
     "metadata": {},
     "output_type": "execute_result"
    }
   ],
   "source": [
    "np.max(D2[D1 <= thresh])"
   ]
  },
  {
   "cell_type": "code",
   "execution_count": 18,
   "metadata": {},
   "outputs": [],
   "source": [
    "def get_thresh_in(D1, D2, thresh):\n",
    "    \"\"\"\n",
    "    Find maximum thresh2 so Rips(D2, thresh2) is contained in Rips(D1, thresh)\n",
    "    \n",
    "    Inputs:\n",
    "        D1 : distance matrix (square or condensed)\n",
    "        D2 : distance matrix (square or condensed)\n",
    "        thresh: threshold for rips complex built on D1\n",
    "        \n",
    "    Returns:\n",
    "        thresh2: threshold for rips complex built on D1\n",
    "    \"\"\"  \n",
    "    D1 = D1.flatten()\n",
    "    D2 = D2.flatten()\n",
    "    \n",
    "    thresh2 = np.inf\n",
    "    for d1, d2 in zip(D1, D2):\n",
    "        if d1 > thresh and d2 <= thresh2:\n",
    "            thresh2 = d2 - np.finfo(float).eps\n",
    "    return thresh2"
   ]
  },
  {
   "cell_type": "code",
   "execution_count": 16,
   "metadata": {},
   "outputs": [],
   "source": [
    "def get_thresh_out(D1, D2, thresh):\n",
    "    \"\"\"\n",
    "    Find minimum thresh2 so Rips(D1, thresh) is contained in Rips(D2, thresh2)\n",
    "    \n",
    "    Inputs:\n",
    "        D1 : distance matrix (square or condensed)\n",
    "        D2 : distance matrix (square or condensed)\n",
    "        thresh: threshold for rips complex built on D1\n",
    "        \n",
    "    Returns:\n",
    "        thresh2: threshold for rips complex built on D1\n",
    "    \"\"\"  \n",
    "    return np.max(D2[D1 <= thresh])"
   ]
  },
  {
   "cell_type": "code",
   "execution_count": 51,
   "metadata": {},
   "outputs": [],
   "source": [
    "def get_inclusion_rips(D1, D2, r):\n",
    "    \"\"\"\n",
    "    Construct a filtration on edges so\n",
    "    Rips(D2, r0) \\subseteq Rips(D1, r) \\subseteq Rips(D2, r1)\n",
    "    \n",
    "    edges in Rips(D2, r0) appear at time 1\n",
    "    edges in Rips(D1, r )  appear at time 2\n",
    "    edges in Rips(D2, r1) appear at time 3\n",
    "    all other edges appear at 4\n",
    "    \n",
    "    Inputs:\n",
    "        D1 : distance matrix (square or condensed)\n",
    "        D2 : distance matrix (square or condensed)\n",
    "        r : threshold for rips complex built on D1\n",
    "        \n",
    "    Returns:\n",
    "        D3: distance matrix specifying inclusion relations\n",
    "    \"\"\"\n",
    "    r0 = get_thresh_in(D1, D2, r)\n",
    "    r1 = get_thresh_out(D1, D2, r)\n",
    "    dshape = D1.shape\n",
    "    D1 = D1.flatten()\n",
    "    D2 = D2.flatten()\n",
    "    \n",
    "    D3 = np.empty(D1.shape, dtype=np.float)\n",
    "    for i, (d1, d2) in enumerate(zip(D1, D2)):\n",
    "        if d2 <= r0:\n",
    "            D3[i] = 1\n",
    "        elif d1 <= r:\n",
    "            D3[i] = 2\n",
    "        elif d2 <= r1:\n",
    "            D3[i] = 3\n",
    "        else:\n",
    "            D3[i] = 4\n",
    "            \n",
    "    return D3.reshape(*dshape)"
   ]
  },
  {
   "cell_type": "code",
   "execution_count": 76,
   "metadata": {},
   "outputs": [],
   "source": [
    "D3 = get_inclusion_rips(D1, D2, 0.5)"
   ]
  },
  {
   "cell_type": "code",
   "execution_count": 77,
   "metadata": {},
   "outputs": [
    {
     "name": "stdout",
     "output_type": "stream",
     "text": [
      "distance matrix: 2.658149003982544 sec.\n"
     ]
    }
   ],
   "source": [
    "btime = time.time()\n",
    "result = ripser(D3, coeff=2, do_cocycles=True, distance_matrix=True)\n",
    "etime = time.time()\n",
    "d_time = etime - btime\n",
    "print('distance matrix: {} sec.'.format(d_time))"
   ]
  },
  {
   "cell_type": "code",
   "execution_count": 78,
   "metadata": {},
   "outputs": [
    {
     "data": {
      "image/png": "[encoded data removed]",
      "text/plain": [
       "<Figure size 640x480 with 1 Axes>"
      ]
     },
     "metadata": {},
     "output_type": "display_data"
    }
   ],
   "source": [
    "diagrams = result['dgms']\n",
    "dgm1 = diagrams[1]\n",
    "idx = np.argmax(dgm1[:, 1] - dgm1[:, 0])\n",
    "plot_diagrams(diagrams, show = False)\n",
    "plt.scatter(dgm1[idx, 0], dgm1[idx, 1], 20, 'k', 'x')\n",
    "plt.title(\"Max 1D birth = %.3g, death = %.3g\"%(dgm1[idx, 0], dgm1[idx, 1]))\n",
    "plt.show()"
   ]
  },
  {
   "cell_type": "code",
   "execution_count": null,
   "metadata": {},
   "outputs": [],
   "source": []
  },
  {
   "cell_type": "markdown",
   "metadata": {},
   "source": [
    "Here are some experiments with sparse matrices... don't really seem to work with Ripser yet."
   ]
  },
  {
   "cell_type": "code",
   "execution_count": 58,
   "metadata": {},
   "outputs": [],
   "source": [
    "?ripser"
   ]
  },
  {
   "cell_type": "code",
   "execution_count": 59,
   "metadata": {},
   "outputs": [],
   "source": [
    "import scipy.sparse"
   ]
  },
  {
   "cell_type": "code",
   "execution_count": 72,
   "metadata": {},
   "outputs": [],
   "source": [
    "D3[D3 == 4] = 0\n",
    "D3s = scipy.sparse.csr_matrix(D3)"
   ]
  },
  {
   "cell_type": "code",
   "execution_count": 73,
   "metadata": {},
   "outputs": [
    {
     "data": {
      "text/plain": [
       "<1000x1000 sparse matrix of type '<class 'numpy.float64'>'\n",
       "\twith 175354 stored elements in Compressed Sparse Row format>"
      ]
     },
     "execution_count": 73,
     "metadata": {},
     "output_type": "execute_result"
    }
   ],
   "source": [
    "D3s"
   ]
  },
  {
   "cell_type": "code",
   "execution_count": 74,
   "metadata": {},
   "outputs": [
    {
     "name": "stdout",
     "output_type": "stream",
     "text": [
      "sparse distance matrix: 0.26553773880004883 sec.\n"
     ]
    }
   ],
   "source": [
    "btime = time.time()\n",
    "result = ripser(D3s, coeff=2, do_cocycles=True, distance_matrix=True)\n",
    "etime = time.time()\n",
    "d_time = etime - btime\n",
    "print('sparse distance matrix: {} sec.'.format(d_time))"
   ]
  },
  {
   "cell_type": "code",
   "execution_count": 75,
   "metadata": {},
   "outputs": [
    {
     "name": "stderr",
     "output_type": "stream",
     "text": [
      "/home/brad/miniconda3/envs/bats/lib/python3.7/site-packages/persim/visuals.py:165: UserWarning: Attempting to set identical left == right == 1.0 results in singular transformations; automatically expanding.\n",
      "  ax.set_xlim([x_down, x_up])\n",
      "/home/brad/miniconda3/envs/bats/lib/python3.7/site-packages/persim/visuals.py:166: UserWarning: Attempting to set identical bottom == top == 1.0 results in singular transformations; automatically expanding.\n",
      "  ax.set_ylim([y_down, y_up])\n"
     ]
    },
    {
     "data": {
      "image/png": "[encoded data removed]",
      "text/plain": [
       "<Figure size 640x480 with 1 Axes>"
      ]
     },
     "metadata": {},
     "output_type": "display_data"
    }
   ],
   "source": [
    "diagrams = result['dgms']\n",
    "dgm1 = diagrams[1]\n",
    "idx = np.argmax(dgm1[:, 1] - dgm1[:, 0])\n",
    "plot_diagrams(diagrams, show = False)\n",
    "plt.scatter(dgm1[idx, 0], dgm1[idx, 1], 20, 'k', 'x')\n",
    "plt.title(\"Max 1D birth = %.3g, death = %.3g\"%(dgm1[idx, 0], dgm1[idx, 1]))\n",
    "plt.show()"
   ]
  },
  {
   "cell_type": "markdown",
   "metadata": {},
   "source": [
    "## Hausdorff Distance"
   ]
  },
  {
   "cell_type": "code",
   "execution_count": 8,
   "metadata": {},
   "outputs": [],
   "source": [
    "from scipy.spatial.distance import directed_hausdorff\n",
    "u = np.array([(1.0, 0.0),\n",
    "              (0.0, 1.0),\n",
    "              (-1.0, 0.0),\n",
    "              (0.0, -1.0)])\n",
    "v = np.array([(2.0, 0.0),\n",
    "              (0.0, 2.0),\n",
    "              (-2.0, 0.0),\n",
    "              (0.0, -4.0)])"
   ]
  },
  {
   "cell_type": "code",
   "execution_count": 9,
   "metadata": {},
   "outputs": [],
   "source": [
    "HD = directed_hausdorff(u, v)"
   ]
  },
  {
   "cell_type": "code",
   "execution_count": 10,
   "metadata": {},
   "outputs": [
    {
     "data": {
      "text/plain": [
       "(2.23606797749979, 3, 0)"
      ]
     },
     "execution_count": 10,
     "metadata": {},
     "output_type": "execute_result"
    }
   ],
   "source": [
    "HD"
   ]
  },
  {
   "cell_type": "code",
   "execution_count": 11,
   "metadata": {},
   "outputs": [
    {
     "data": {
      "text/plain": [
       "array([[ 1.,  0.],\n",
       "       [ 0.,  1.],\n",
       "       [-1.,  0.],\n",
       "       [ 0., -1.]])"
      ]
     },
     "execution_count": 11,
     "metadata": {},
     "output_type": "execute_result"
    }
   ],
   "source": [
    "u"
   ]
  },
  {
   "cell_type": "code",
   "execution_count": 12,
   "metadata": {},
   "outputs": [
    {
     "data": {
      "text/plain": [
       "array([[ 2.,  0.],\n",
       "       [ 0.,  2.],\n",
       "       [-2.,  0.],\n",
       "       [ 0., -4.]])"
      ]
     },
     "execution_count": 12,
     "metadata": {},
     "output_type": "execute_result"
    }
   ],
   "source": [
    "v"
   ]
  },
  {
   "cell_type": "code",
   "execution_count": 13,
   "metadata": {},
   "outputs": [],
   "source": [
    "? directed_hausdorff"
   ]
  },
  {
   "cell_type": "code",
   "execution_count": 29,
   "metadata": {},
   "outputs": [
    {
     "name": "stdout",
     "output_type": "stream",
     "text": [
      "(5496, 2)\n"
     ]
    }
   ],
   "source": [
    "# gt_matrix = np.load('/home/harryem/data/HimalGen/gt_matrix.npy')\n",
    "# gt_matrix_PCs = np.load('/home/harryem/data/HimalGen/gt_matrix_PCs.npy')\n",
    "# gt_matrix_PCs_50 = np.load('/home/harryem/data/HimalGen/gt_matrix_PCs_50.npy')\n",
    "gt_matrix_PCs_2 = np.load('/home/harryem/data/HimalGen/gt_matrix_PCs_2.npy').T\n",
    "print(gt_matrix_PCs_2.shape)"
   ]
  },
  {
   "cell_type": "code",
   "execution_count": 46,
   "metadata": {},
   "outputs": [],
   "source": [
    "LOO_Haus_dist = []\n",
    "\n",
    "for i in range(gt_matrix_PCs_2.shape[0]):\n",
    "\n",
    "    D0 = directed_hausdorff(np.expand_dims(gt_matrix_PCs_2[i], axis=0), np.delete(gt_matrix_PCs_2, i, 0))\n",
    "    LOO_Haus_dist.append(D0[0])"
   ]
  },
  {
   "cell_type": "code",
   "execution_count": 47,
   "metadata": {},
   "outputs": [
    {
     "data": {
      "text/plain": [
       "[0.04045301247214843,\n",
       " 0.10504129854536291,\n",
       " 0.03930490136185808,\n",
       " 0.2556943587551828,\n",
       " 0.07428753113387347,\n",
       " 0.09992945485424158,\n",
       " 0.06049243557109771,\n",
       " 0.056522895883974925,\n",
       " 0.17794452469199304,\n",
       " 0.4549511388768269,\n",
       " 0.03171286814927978,\n",
       " 0.03811404625137468,\n",
       " 0.0955412851677289,\n",
       " 0.045369342214332406,\n",
       " 0.10273224546264999,\n",
       " 0.08288752058579933,\n",
       " 0.1444026967181154,\n",
       " 0.20754953884451366,\n",
       " 0.20283703691694635,\n",
       " 0.05998800483963661,\n",
       " 0.18245491849753429,\n",
       " 0.2275332808924188,\n",
       " 0.0331489047229159,\n",
       " 0.03644403571645769,\n",
       " 0.07941973673955216,\n",
       " 0.07284169835110856,\n",
       " 0.7545701067525561,\n",
       " 0.6921566113265568,\n",
       " 0.07918427058834827,\n",
       " 0.07778393462452107,\n",
       " 0.30068598045023615,\n",
       " 0.14706169720971246,\n",
       " 0.09015468158213252,\n",
       " 0.03376447767385522,\n",
       " 0.238767938982578,\n",
       " 0.26142454584431113,\n",
       " 0.21831424819149514,\n",
       " 0.12715955587867975,\n",
       " 0.07323143480888296,\n",
       " 0.030734203927303395,\n",
       " 0.05139228609994282,\n",
       " 0.007654838869594931,\n",
       " 0.21287282838204838,\n",
       " 0.47069697401015875,\n",
       " 0.036872507622967364,\n",
       " 0.124420405941861,\n",
       " 0.07330418299940036,\n",
       " 0.11263330120461422,\n",
       " 0.2620717772581439,\n",
       " 0.12512547445100503,\n",
       " 0.3532216026432386,\n",
       " 0.3824046538281316,\n",
       " 0.1988331347046791,\n",
       " 0.0810745515553144,\n",
       " 0.09197427996017367,\n",
       " 0.020809239318352223,\n",
       " 0.12393540244198253,\n",
       " 0.2568678890829803,\n",
       " 0.022199168193477815,\n",
       " 0.10259722550365735,\n",
       " 0.05817437569770967,\n",
       " 0.023863538440315826,\n",
       " 0.3863209946812955,\n",
       " 0.04810032650806805,\n",
       " 0.05583441360187485,\n",
       " 0.08418320920082532,\n",
       " 0.22439987862286037,\n",
       " 0.06321873746051417,\n",
       " 0.09800339331628173,\n",
       " 0.05757986828119436,\n",
       " 0.04692532184921186,\n",
       " 0.09391114215254397,\n",
       " 0.16169812249230167,\n",
       " 0.051892593874218775,\n",
       " 0.025893062557967302,\n",
       " 0.17848172901787668,\n",
       " 0.12809664054798736,\n",
       " 0.40515320551707307,\n",
       " 0.026086367610175715,\n",
       " 0.1430289088097514,\n",
       " 0.1320631015161482,\n",
       " 0.08008405540280754,\n",
       " 0.7294195368708042,\n",
       " 0.33260810911775673,\n",
       " 0.201293732811008,\n",
       " 0.3306407537605596,\n",
       " 0.10691699425633341,\n",
       " 0.31604068616303627,\n",
       " 0.07354651889993981,\n",
       " 0.09128174743826796,\n",
       " 0.19274690816878534,\n",
       " 0.2169433196684158,\n",
       " 0.0382701807652984,\n",
       " 0.08277626917260071,\n",
       " 0.03735842090956999,\n",
       " 0.043352697371119,\n",
       " 0.03648341948409085,\n",
       " 0.06645024090105783,\n",
       " 0.09650030406406548,\n",
       " 0.022310119343824684,\n",
       " 0.03990507056215908,\n",
       " 0.031467978123138673,\n",
       " 0.03349307377021398,\n",
       " 0.05037893979229182,\n",
       " 0.09429296640861273,\n",
       " 0.22206652528682475,\n",
       " 0.5920201318370906,\n",
       " 0.26326405386290047,\n",
       " 0.03975895881631701,\n",
       " 0.03264231352264122,\n",
       " 0.03251043174702906,\n",
       " 0.020737726755665913,\n",
       " 0.16204080629208864,\n",
       " 0.07928143190735236,\n",
       " 0.05746593980056435,\n",
       " 0.04084447998291658,\n",
       " 0.01661828895612691,\n",
       " 0.21922114099198578,\n",
       " 0.14058124436175085,\n",
       " 0.3770869265943881,\n",
       " 0.07429210937924982,\n",
       " 0.05169072792447264,\n",
       " 0.04912075360825348,\n",
       " 0.12383561965040903,\n",
       " 0.0499787685276459,\n",
       " 0.1086819660683239,\n",
       " 0.0714462133691647,\n",
       " 0.0889358608040306,\n",
       " 0.07115814070512619,\n",
       " 0.20383782376429005,\n",
       " 0.104701126923471,\n",
       " 0.09673931385184274,\n",
       " 0.14466253225202969,\n",
       " 0.02100985051433799,\n",
       " 0.10042884664795321,\n",
       " 0.07831416513115828,\n",
       " 0.04626265080889381,\n",
       " 0.09094934040326086,\n",
       " 0.2132995713273939,\n",
       " 0.5020881843987014,\n",
       " 0.4196206318681839,\n",
       " 0.32539364548808236,\n",
       " 0.08668596228821447,\n",
       " 0.032086628218260235,\n",
       " 0.23898918258636045,\n",
       " 0.149046919562737,\n",
       " 0.15653477322262993,\n",
       " 0.1808267813924727,\n",
       " 0.124420405941861,\n",
       " 0.048304421177398506,\n",
       " 0.10420406852938334,\n",
       " 0.06420442304119849,\n",
       " 0.10524582600553758,\n",
       " 0.07876487251163528,\n",
       " 0.09995041313899662,\n",
       " 0.16044849507802073,\n",
       " 0.20252996640065576,\n",
       " 0.07923500407538508,\n",
       " 0.2101391495947373,\n",
       " 0.16543721538636785,\n",
       " 0.10797565677664425,\n",
       " 0.06249752440825675,\n",
       " 0.04194847719921064,\n",
       " 0.08960064938474997,\n",
       " 0.0743150116519733,\n",
       " 0.0861715413358506,\n",
       " 0.21604956754976795,\n",
       " 0.13340068113228976,\n",
       " 0.14706169720971246,\n",
       " 0.1437644679127466,\n",
       " 0.29658438084313726,\n",
       " 0.15666420099337017,\n",
       " 0.034344107920047294,\n",
       " 0.20995907247494375,\n",
       " 0.4565084076583444,\n",
       " 0.17794452469199304,\n",
       " 0.02651232121172988,\n",
       " 0.16044849507802073,\n",
       " 0.33071789715167427,\n",
       " 1.4399166975722812,\n",
       " 0.2033699075716421,\n",
       " 0.3901258430909992,\n",
       " 0.10653772297821297,\n",
       " 0.060837118540989825,\n",
       " 0.6766480878301842,\n",
       " 0.23206579305579692,\n",
       " 0.029224967456125826,\n",
       " 0.16465677043883817,\n",
       " 0.5565157230709203,\n",
       " 0.28749276338099355,\n",
       " 0.17496234577709371,\n",
       " 0.18940136228811044,\n",
       " 0.4744156524280767,\n",
       " 0.5125832844349295,\n",
       " 0.1509308131310977,\n",
       " 0.5006347063296329,\n",
       " 0.14970651943610358,\n",
       " 0.4943985374736404,\n",
       " 0.03937901664595824,\n",
       " 0.05265742722170039,\n",
       " 0.34281417434723427,\n",
       " 0.3088127410174719,\n",
       " 0.11904544112462448,\n",
       " 0.023785938603618557,\n",
       " 0.1637724864952413,\n",
       " 0.12715955587867975,\n",
       " 0.12664211797287966,\n",
       " 0.19584559333611806,\n",
       " 0.08668596228821447,\n",
       " 0.06596632980962942,\n",
       " 0.024577076862144404,\n",
       " 0.14515096594779864,\n",
       " 0.2734229183880015,\n",
       " 0.2664278404844814,\n",
       " 0.23231674183363465,\n",
       " 0.47214106366380715,\n",
       " 0.3503459679629624,\n",
       " 0.14217904361025452,\n",
       " 0.20301245722259548,\n",
       " 0.4390534112270093,\n",
       " 0.2424655336255483,\n",
       " 0.4192415879755441,\n",
       " 0.20768247736647819,\n",
       " 0.07353675161831894,\n",
       " 0.13264583414251652,\n",
       " 0.21977291089235967,\n",
       " 0.40515320551707307,\n",
       " 0.20249048004643902,\n",
       " 0.27475819983723543,\n",
       " 0.5968721890576745,\n",
       " 0.1278508261294378,\n",
       " 0.02139925122506595,\n",
       " 0.828860642361358,\n",
       " 0.20768247736647819,\n",
       " 0.22445045426002516,\n",
       " 0.36886912376609693,\n",
       " 0.8540770944665311,\n",
       " 0.060837118540989825,\n",
       " 0.27990277613741477,\n",
       " 0.3054631380814811,\n",
       " 0.05517597560967348,\n",
       " 0.4083121122887601,\n",
       " 0.02554315380220062,\n",
       " 0.0825414896917601,\n",
       " 0.18705644087195242,\n",
       " 0.09681794401533268,\n",
       " 0.2690550367013603,\n",
       " 0.06583874368276389,\n",
       " 0.13426779254164062,\n",
       " 0.20249048004643902,\n",
       " 0.23800240254663493,\n",
       " 0.03287066264019986,\n",
       " 0.07876487251163528,\n",
       " 0.028767549254553763,\n",
       " 0.2750404281583519,\n",
       " 0.9544997837982027,\n",
       " 0.3054631380814811,\n",
       " 0.34444676668519686,\n",
       " 0.2033699075716421,\n",
       " 0.4810624971711207,\n",
       " 0.4059739874873527,\n",
       " 0.3088716472519807,\n",
       " 0.19219781058058918,\n",
       " 0.19219781058058918,\n",
       " 0.24691173266391309,\n",
       " 0.0341321477942934,\n",
       " 0.5937613160521403,\n",
       " 0.7260170634381525,\n",
       " 0.2185208289771888,\n",
       " 0.043724795068897426,\n",
       " 0.10621418100801587,\n",
       " 0.05264435261423156,\n",
       " 0.09345141734606689,\n",
       " 0.027209814524444268,\n",
       " 0.9215928686303259,\n",
       " 0.7083943549976651,\n",
       " 0.6215740336477416,\n",
       " 0.2515391587274487,\n",
       " 0.23231674183363465,\n",
       " 0.0810745515553144,\n",
       " 0.08733779343176497,\n",
       " 0.10889048762612007,\n",
       " 0.34281417434723427,\n",
       " 0.7773596596915175,\n",
       " 0.19106355355200508,\n",
       " 0.08222113436580884,\n",
       " 0.030784302682738393,\n",
       " 0.03991496448459082,\n",
       " 0.17483838947591107,\n",
       " 0.17483838947591107,\n",
       " 0.0974426342893682,\n",
       " 0.013276973720561474,\n",
       " 0.06316554393359947,\n",
       " 0.08261481431530578,\n",
       " 0.10023984022693593,\n",
       " 0.035493382503052104,\n",
       " 0.6537931163520814,\n",
       " 0.4788398859040761,\n",
       " 0.3826681589026314,\n",
       " 0.6668168894678858,\n",
       " 0.27334156030230444,\n",
       " 0.18593375233130466,\n",
       " 0.15515299001794167,\n",
       " 0.1629186106721518,\n",
       " 0.19272504783773767,\n",
       " 0.05517597560967348,\n",
       " 0.22264023377395428,\n",
       " 0.3148685030877236,\n",
       " 0.2532443312552815,\n",
       " 1.0770917019446342,\n",
       " 0.0341321477942934,\n",
       " 0.1327536494661765,\n",
       " 0.07428001216903303,\n",
       " 0.024543875153589693,\n",
       " 0.09969379222652949,\n",
       " 0.17859318570671098,\n",
       " 0.08317526065536393,\n",
       " 0.051892593874218775,\n",
       " 0.1250292992958771,\n",
       " 0.20918434740746886,\n",
       " 0.21942274217102375,\n",
       " 0.490099044910257,\n",
       " 0.09357893991252131,\n",
       " 0.01178876383639309,\n",
       " 0.3378785727401456,\n",
       " 0.21589623284278933,\n",
       " 0.23532802297473443,\n",
       " 0.24368361134153857,\n",
       " 0.13223292765747202,\n",
       " 0.1271438437612634,\n",
       " 0.22680689981924265,\n",
       " 0.13188729192814255,\n",
       " 0.31604068616303627,\n",
       " 0.1030471248815649,\n",
       " 0.07345771819884721,\n",
       " 0.03220033697529853,\n",
       " 0.06647345860262786,\n",
       " 0.06890971827206499,\n",
       " 0.12211362733365587,\n",
       " 0.12902706738084346,\n",
       " 0.007310337208658391,\n",
       " 0.15148500308699384,\n",
       " 0.19794102930764587,\n",
       " 0.1165716608933217,\n",
       " 0.09969379222652949,\n",
       " 0.1327536494661765,\n",
       " 0.041973589244670234,\n",
       " 0.033582369552692566,\n",
       " 0.059758870723030315,\n",
       " 0.1710262019076885,\n",
       " 0.3306407537605596,\n",
       " 0.2556943587551828,\n",
       " 0.05287295976643616,\n",
       " 0.12175324214670057,\n",
       " 0.14821336786568584,\n",
       " 0.03171286814927978,\n",
       " 0.3372235819269295,\n",
       " 0.055020991150132086,\n",
       " 0.1370884332306404,\n",
       " 0.6160152785876278,\n",
       " 0.19462818146895994,\n",
       " 0.3658833886702696,\n",
       " 0.12895742207567806,\n",
       " 0.1603049402520627,\n",
       " 0.10935708875128668,\n",
       " 0.11569365766449931,\n",
       " 0.1590344422751395,\n",
       " 0.13188729192814255,\n",
       " 0.19015764110262554,\n",
       " 0.06890971827206499,\n",
       " 0.47069697401015875,\n",
       " 0.15570704255050027,\n",
       " 0.11173098437950912,\n",
       " 0.1187802659895044,\n",
       " 0.17496234577709371,\n",
       " 0.07688648078058727,\n",
       " 0.049400509903921135,\n",
       " 0.2089246227980109,\n",
       " 0.08422389073908501,\n",
       " 0.06217811460645397,\n",
       " 0.18040460106644446,\n",
       " 0.23390388422862396,\n",
       " 0.21558373886784454,\n",
       " 0.17889132930232943,\n",
       " 0.11267886348046469,\n",
       " 0.044759246328595285,\n",
       " 0.7613642765513826,\n",
       " 0.4154663777496787,\n",
       " 0.4294873574429184,\n",
       " 0.108051304644646,\n",
       " 0.05318446092496684,\n",
       " 0.05455455979117805,\n",
       " 0.12562927980981867,\n",
       " 0.016357444032122068,\n",
       " 0.21376193599478488,\n",
       " 0.1431427073036336,\n",
       " 0.18126298690240036,\n",
       " 0.10266026558694726,\n",
       " 0.12205302139843106,\n",
       " 0.11366876440020834,\n",
       " 0.3158703405282165,\n",
       " 0.3412539401076128,\n",
       " 0.06341996328867033,\n",
       " 0.0496123951739769,\n",
       " 0.21977291089235967,\n",
       " 0.1603049402520627,\n",
       " 0.13267251710790465,\n",
       " 0.03930490136185808,\n",
       " 0.04688902924530388,\n",
       " 0.04955579204789287,\n",
       " 0.023785938603618557,\n",
       " 0.10313668617341663,\n",
       " 0.31184807711700335,\n",
       " 0.4215261175409055,\n",
       " 0.10643106392582646,\n",
       " 0.25378289729428766,\n",
       " 0.25163529740826385,\n",
       " 0.13264583414251652,\n",
       " 0.149046919562737,\n",
       " 0.24890436048501802,\n",
       " 0.16903401817662417,\n",
       " 0.11173098437950912,\n",
       " 0.17642129889758562,\n",
       " 0.19939438080448682,\n",
       " 0.22680689981924265,\n",
       " 0.23571166192211324,\n",
       " 0.31095273255374295,\n",
       " 0.12664211797287966,\n",
       " 0.044759246328595285,\n",
       " 0.11369341678244278,\n",
       " 0.016549916809137172,\n",
       " 0.04771513518893921,\n",
       " 0.14982041750909592,\n",
       " 0.09455528658663155,\n",
       " 0.0945332429244327,\n",
       " 0.10478527047700956,\n",
       " 0.09624283971275059,\n",
       " 0.8447032787153288,\n",
       " 0.015269642337697337,\n",
       " 0.1663374671793584,\n",
       " 0.6277707875803864,\n",
       " 0.1760608456926715,\n",
       " 0.1842874768398429,\n",
       " 0.24587618411716788,\n",
       " 0.08690480556057446,\n",
       " 0.3133618601199288,\n",
       " 0.11569365766449931,\n",
       " 0.2528134914865323,\n",
       " 0.26459904357085623,\n",
       " 0.11744326268454998,\n",
       " 0.1640385253760139,\n",
       " 0.17666043229358952,\n",
       " 0.05693977037087614,\n",
       " 0.06442187356197694,\n",
       " 0.050002107168966095,\n",
       " 0.05445223099065399,\n",
       " 0.13979575840091796,\n",
       " 0.17158126779389776,\n",
       " 0.04906942120001797,\n",
       " 0.21225241922975743,\n",
       " 0.11746245182028654,\n",
       " 0.06898809456484314,\n",
       " 0.12895742207567806,\n",
       " 0.20455737531757687,\n",
       " 0.2833278943952502,\n",
       " 0.22094884990295713,\n",
       " 0.06614537290360253,\n",
       " 0.10452720292187181,\n",
       " 0.047741591587743305,\n",
       " 0.28187119925874266,\n",
       " 0.12120382497450392,\n",
       " 0.05554757201546559,\n",
       " 0.1455181079537119,\n",
       " 0.16706086302879306,\n",
       " 0.1419367937239862,\n",
       " 0.10420406852938334,\n",
       " 0.20661610710245698,\n",
       " 0.07460644264789372,\n",
       " 0.018813559504663256,\n",
       " 0.28187119925874266,\n",
       " 0.03866995018161823,\n",
       " 0.10716450652091353,\n",
       " 0.09342007160078691,\n",
       " 0.14365750336750227,\n",
       " 0.3024257508884491,\n",
       " 0.03999059013136335,\n",
       " 0.10843861548620508,\n",
       " 0.06220861718703723,\n",
       " 0.03529585812611839,\n",
       " 0.02107789073844472,\n",
       " 0.02902454103425021,\n",
       " 0.09045580141006503,\n",
       " 0.036317999263234875,\n",
       " 0.1366825532813995,\n",
       " 0.054232567927646885,\n",
       " 0.021821988044670598,\n",
       " 0.05534418804946475,\n",
       " 0.02554315380220062,\n",
       " 0.006899058832978437,\n",
       " 0.06299618671514284,\n",
       " 0.11233711558424443,\n",
       " 0.036787027988066594,\n",
       " 0.04570265355292712,\n",
       " 0.8689496268918585,\n",
       " 0.035730456743240324,\n",
       " 0.0709525641849449,\n",
       " 0.097820663499752,\n",
       " 0.06848299751912114,\n",
       " 0.06691804229277704,\n",
       " 0.012341687062702068,\n",
       " 0.05615465691326766,\n",
       " 0.033054774945319304,\n",
       " 0.07402985017285617,\n",
       " 0.20507841824444245,\n",
       " 0.06345710020459293,\n",
       " 0.036742012954519294,\n",
       " 0.19052309012232907,\n",
       " 0.22439987862286037,\n",
       " 0.08846494085421176,\n",
       " 0.07088410704611019,\n",
       " 0.06108946544679036,\n",
       " 0.03508911333741006,\n",
       " 0.045369342214332406,\n",
       " 0.007669966881083785,\n",
       " 0.024075108190680095,\n",
       " 0.0893181762473595,\n",
       " 0.18116050354853225,\n",
       " 0.1326160439686577,\n",
       " 0.07723239212300226,\n",
       " 0.09841957320001737,\n",
       " 0.21545499720274136,\n",
       " 0.20269036055647446,\n",
       " 0.04045301247214843,\n",
       " 0.12562927980981867,\n",
       " 0.17687771519188128,\n",
       " 0.0971338755951442,\n",
       " 0.05897524422383509,\n",
       " 0.032441317959288674,\n",
       " 0.481884900467552,\n",
       " 0.1167151892392611,\n",
       " 0.03705072945142231,\n",
       " 0.00989331205285155,\n",
       " 0.14235906075641394,\n",
       " 0.08034884578749071,\n",
       " 0.0702331841196515,\n",
       " 0.022377177061313223,\n",
       " 0.36868248375414153,\n",
       " 0.1590344422751395,\n",
       " 0.038845185878376765,\n",
       " 0.035493382503052104,\n",
       " 0.10559316957501558,\n",
       " 0.2120103886401068,\n",
       " 0.04470847206256832,\n",
       " 0.07552551893211192,\n",
       " 0.08003371490847809,\n",
       " 0.029789990017367273,\n",
       " 0.06856482950243514,\n",
       " 0.19543504518521806,\n",
       " 0.05445223099065399,\n",
       " 0.06868550026049607,\n",
       " 1.0492633427352709,\n",
       " 0.4767650056647823,\n",
       " 0.33866738875985053,\n",
       " 0.27576558090709363,\n",
       " 0.2882861127026351,\n",
       " 0.24430994257278066,\n",
       " 0.023401599530700475,\n",
       " 0.047710253273809886,\n",
       " 0.19384931096856253,\n",
       " 0.08158428752777146,\n",
       " 0.01610773212369405,\n",
       " 0.047741591587743305,\n",
       " 0.023863538440315826,\n",
       " 0.14821336786568584,\n",
       " 0.1750405747472097,\n",
       " 0.1808267813924727,\n",
       " 0.28184199940092575,\n",
       " 0.29759746540561505,\n",
       " 0.15159080990123247,\n",
       " 0.08701926632405589,\n",
       " 0.05998780234529176,\n",
       " 0.23390388422862396,\n",
       " 0.04823939998080367,\n",
       " 0.059403377298938666,\n",
       " 0.0364612087227433,\n",
       " 0.08624206962983245,\n",
       " 0.019362860060271256,\n",
       " 0.10867566440113302,\n",
       " 0.07994824120603829,\n",
       " 0.08701926632405589,\n",
       " 0.04470847206256832,\n",
       " 0.1316533589420255,\n",
       " 0.037287056844298526,\n",
       " 0.0572355141543288,\n",
       " 0.07561262674456733,\n",
       " 0.05090631197217254,\n",
       " 0.028311484642871042,\n",
       " 0.04425927325717651,\n",
       " 0.047891745008254306,\n",
       " 0.043800688602609376,\n",
       " 0.006881549192517911,\n",
       " 0.04570468065793665,\n",
       " 0.20603663221532736,\n",
       " 0.0971338755951442,\n",
       " 0.15331260473105066,\n",
       " 0.4433738800031032,\n",
       " 0.021718197972097918,\n",
       " 0.05924976216639425,\n",
       " 0.08467325293495931,\n",
       " 0.01798024202027122,\n",
       " 0.023733195773324136,\n",
       " 0.025288112001743766,\n",
       " 0.3024257508884491,\n",
       " 0.20732430256015338,\n",
       " 0.07230069876179764,\n",
       " 0.04955579204789287,\n",
       " 0.06008532085718525,\n",
       " 0.05909405656406476,\n",
       " 0.09138069334391198,\n",
       " 0.06310090455684572,\n",
       " 0.034344107920047294,\n",
       " 0.10023984022693593,\n",
       " 0.08222113436580884,\n",
       " 0.07212030061507724,\n",
       " 0.01131302676769966,\n",
       " 0.1575630032303496,\n",
       " 0.025893062557967302,\n",
       " 0.07809655022613406,\n",
       " 0.055786185243694615,\n",
       " 0.08930930465645526,\n",
       " 0.03650340233455572,\n",
       " 0.020809239318352223,\n",
       " 0.18027991821272235,\n",
       " 0.05698892416932744,\n",
       " 0.0893181762473595,\n",
       " 0.07723239212300226,\n",
       " 0.06848299751912114,\n",
       " 0.07522743933796022,\n",
       " 0.08666889452829081,\n",
       " 0.15714534676543016,\n",
       " 0.08236455770909808,\n",
       " 0.07273230556660772,\n",
       " 0.022852841190815546,\n",
       " 0.06912070211552149,\n",
       " 0.025317557565731792,\n",
       " 0.21850757875412027,\n",
       " 0.032131236564430996,\n",
       " 0.14672657514192392,\n",
       " 0.17697636861558577,\n",
       " 0.10643106392582646,\n",
       " 0.22510792038874902,\n",
       " 0.09833975458881719,\n",
       " 0.23898918258636045,\n",
       " 0.14035376211116726,\n",
       " 0.17861914899971962,\n",
       " 0.2620717772581439,\n",
       " 0.00894831650599371,\n",
       " 0.09268768898114156,\n",
       " 0.4215261175409055,\n",
       " 0.23031542207472708,\n",
       " 0.7297640602717851,\n",
       " 0.1695421075438541,\n",
       " 0.368289864349099,\n",
       " 0.31557384071344646,\n",
       " 0.207288237186671,\n",
       " 0.17856642073286025,\n",
       " 0.02813079130142659,\n",
       " 0.19654222835905674,\n",
       " 0.1835090326526074,\n",
       " 0.1640385253760139,\n",
       " 0.20784968155947386,\n",
       " 0.10698893603520232,\n",
       " 0.09128174743826796,\n",
       " 0.09354441806166541,\n",
       " 0.14258264295283782,\n",
       " 0.05366084435929683,\n",
       " 0.2848554349685272,\n",
       " 0.16571388617023983,\n",
       " 0.05353630885492793,\n",
       " 0.24416372860615404,\n",
       " 0.08947380646683069,\n",
       " 0.0927435649994927,\n",
       " 0.13471066512690058,\n",
       " 0.17755597319540756,\n",
       " 0.15653477322262993,\n",
       " 0.15223240782586367,\n",
       " 0.02879169385963196,\n",
       " 0.16543721538636785,\n",
       " 0.49810949346008276,\n",
       " 0.038857492181697005,\n",
       " 0.16049364399532565,\n",
       " 0.020736986545759332,\n",
       " 0.0499536137853449,\n",
       " 0.07584544927279978,\n",
       " 0.14672657514192392,\n",
       " 0.11202199420600235,\n",
       " 0.18027991821272235,\n",
       " 0.3378785727401456,\n",
       " 0.09753504893512512,\n",
       " 0.1365287391505372,\n",
       " 0.15038834435514847,\n",
       " 0.019961108524684013,\n",
       " 0.2636611100091564,\n",
       " 0.10478527047700956,\n",
       " 0.1750405747472097,\n",
       " 0.1271438437612634,\n",
       " 0.1762047707227792,\n",
       " 0.24490714352248902,\n",
       " 0.20927371228569253,\n",
       " 0.1842874768398429,\n",
       " 0.3163329728573318,\n",
       " 0.32042638360788195,\n",
       " 0.09764332556322405,\n",
       " 0.1077296448226747,\n",
       " 0.19259565952324811,\n",
       " 0.05554757201546559,\n",
       " 0.06507685983958318,\n",
       " 0.10649014841379253,\n",
       " 0.07034384717679644,\n",
       " 0.05349429071550681,\n",
       " 0.17502240407013633,\n",
       " 0.14406603890393727,\n",
       " 0.16564798677602358,\n",
       " 0.06910006434625213,\n",
       " 0.03774095017708893,\n",
       " 0.03639894189325066,\n",
       " 0.2378361163383082,\n",
       " 0.3912276940007949,\n",
       " 0.1323469506358084,\n",
       " 0.09833975458881719,\n",
       " 0.302475666493352,\n",
       " 0.17391405257402454,\n",
       " 0.20197986608020613,\n",
       " 0.06207722114146647,\n",
       " 0.17803204286163302,\n",
       " 0.1077296448226747,\n",
       " 0.3338326464921129,\n",
       " 0.0780786813125298,\n",
       " 0.22257429977702647,\n",
       " 0.21851569669050047,\n",
       " 0.10312601172638008,\n",
       " 0.07212030061507724,\n",
       " 0.14184613345308345,\n",
       " 0.04153888854976332,\n",
       " 0.19780841829559323,\n",
       " 0.13423640844857557,\n",
       " 0.1030471248815649,\n",
       " 0.4219406437877795,\n",
       " 0.09109763532623988,\n",
       " 0.21490315669989202,\n",
       " 0.23078012091005182,\n",
       " 0.10125134585178251,\n",
       " 0.15102841752985716,\n",
       " 0.1082602123214341,\n",
       " 0.13267251710790465,\n",
       " 0.03289972409545618,\n",
       " 0.05011774758048933,\n",
       " 0.22532297672365856,\n",
       " 0.1323469506358084,\n",
       " 0.23345096915861924,\n",
       " 0.17861914899971962,\n",
       " 0.1365287391505372,\n",
       " 0.20379723217157375,\n",
       " 0.11202199420600235,\n",
       " 0.06483703938272413,\n",
       " 0.04651892106136267,\n",
       " 0.12393540244198253,\n",
       " 0.3088716472519807,\n",
       " 0.31184807711700335,\n",
       " 0.1370884332306404,\n",
       " 0.1932801268989621,\n",
       " 0.10496787021123748,\n",
       " 0.23672159935973464,\n",
       " 0.31958393280818104,\n",
       " 0.22208318700045926,\n",
       " 0.10035136431489695,\n",
       " 0.1082602123214341,\n",
       " 0.24802059330525975,\n",
       " 0.029224967456125826,\n",
       " 0.04457280584719331,\n",
       " 0.13965546281048838,\n",
       " 0.3003145518596304,\n",
       " 0.03529585812611839,\n",
       " 0.6310432291302299,\n",
       " 0.7200975990432803,\n",
       " 0.0709525641849449,\n",
       " 0.45986524671659534,\n",
       " 0.04906942120001797,\n",
       " 0.17856642073286025,\n",
       " 0.19690777911771154,\n",
       " 0.21287282838204838,\n",
       " 0.108051304644646,\n",
       " 0.08957879101378982,\n",
       " 0.11520877766049539,\n",
       " 0.16094338327688826,\n",
       " 0.23078012091005182,\n",
       " 0.20728793587345906,\n",
       " 0.18116050354853225,\n",
       " 0.08052083348940114,\n",
       " 0.029609839223460582,\n",
       " 0.1167151892392611,\n",
       " 0.42731053600028596,\n",
       " 0.04425927325717651,\n",
       " 0.01798024202027122,\n",
       " 0.09196568300847789,\n",
       " 0.14458977084491825,\n",
       " 0.07428001216903303,\n",
       " 0.11744326268454998,\n",
       " 0.1187802659895044,\n",
       " 0.31557384071344646,\n",
       " 0.2481774750000347,\n",
       " 0.11810578565509208,\n",
       " 0.3705228317158001,\n",
       " 0.16049364399532565,\n",
       " 0.0696258739619904,\n",
       " 0.19052309012232907,\n",
       " 0.18547759651128998,\n",
       " 0.21395055097246818,\n",
       " 0.08849796826494963,\n",
       " 0.036076544442220033,\n",
       " 0.12744331748443774,\n",
       " 0.019459138892744032,\n",
       " 0.09066253858110931,\n",
       " 0.047817972093403195,\n",
       " 0.05468484197403835,\n",
       " 0.3533898846655706,\n",
       " 0.26484776004574595,\n",
       " 0.055421807044965084,\n",
       " 0.14454419115778785,\n",
       " 0.12124504564963906,\n",
       " 0.09629468265066404,\n",
       " 0.08236455770909808,\n",
       " 0.044039365873562095,\n",
       " 0.039565746830476485,\n",
       " 0.11506576918258749,\n",
       " 0.30068598045023615,\n",
       " 0.038845185878376765,\n",
       " 0.038241154100573445,\n",
       " 0.08054881701433163,\n",
       " 0.06078326809091053,\n",
       " 0.007242836420901842,\n",
       " 0.0492008086796289,\n",
       " 0.03644403571645769,\n",
       " 0.05583441360187485,\n",
       " 0.08725472327205458,\n",
       " 0.14416729651712235,\n",
       " 0.0492008086796289,\n",
       " 0.08377696823722279,\n",
       " 0.12124504564963906,\n",
       " 0.0321489181855057,\n",
       " 0.03287066264019986,\n",
       " 0.13111076592511822,\n",
       " 0.032086628218260235,\n",
       " 0.0633002271202519,\n",
       " 0.03735019330962608,\n",
       " 0.04908241950271101,\n",
       " 0.12342072730306923,\n",
       " 0.04810032650806805,\n",
       " 0.04720618323574891,\n",
       " 0.024075108190680095,\n",
       " 0.10546064361200018,\n",
       " 0.0503523162808247,\n",
       " 0.15593331737124164,\n",
       " 0.04411016684668436,\n",
       " 0.07326440327705323,\n",
       " 0.055020991150132086,\n",
       " 0.021327744375949913,\n",
       " 0.0952166781989997,\n",
       " 0.019362860060271256,\n",
       " 0.09841957320001737,\n",
       " 0.18745372654348627,\n",
       " 0.05995425496429297,\n",
       " 0.13858602007229365,\n",
       " 0.10184985586225262,\n",
       " 0.06518071652230208,\n",
       " 0.06614016880839917,\n",
       " 0.10167323077756836,\n",
       " 0.0572355141543288,\n",
       " 0.05215961508938315,\n",
       " 0.015064987431870985,\n",
       " 0.1366825532813995,\n",
       " 0.12175324214670057,\n",
       " 0.07584544927279978,\n",
       " 0.2793988835411165,\n",
       " 0.0503523162808247,\n",
       " 0.061902546532028285,\n",
       " 0.22510792038874902,\n",
       " 0.12430981815691634,\n",
       " 0.08846494085421176,\n",
       " 0.05875325262104152,\n",
       " 0.10698893603520232,\n",
       " 0.007669966881083785,\n",
       " 0.05021513702296284,\n",
       " 0.08345920553251131,\n",
       " 0.04688902924530388,\n",
       " 0.07437769225206747,\n",
       " 0.06194486922546079,\n",
       " 0.07312370903164858,\n",
       " 0.03658739372210667,\n",
       " 0.08421655508222475,\n",
       " 0.024138378261361094,\n",
       " 0.08960064938474997,\n",
       " 0.04411016684668436,\n",
       " 0.03052556148057823,\n",
       " 0.013575313078255475,\n",
       " 0.012543925527466172,\n",
       " 0.17755597319540756,\n",
       " 0.14035376211116726,\n",
       " 0.039589215022305536,\n",
       " 0.057613867034135964,\n",
       " 0.15703952753487824,\n",
       " 0.07918427058834827,\n",
       " 0.06910006434625213,\n",
       " 0.007242836420901842,\n",
       " 0.06299618671514284,\n",
       " 0.06493686182503629,\n",
       " 0.09378719378321132,\n",
       " 0.11506576918258749,\n",
       " 0.037065116912868026,\n",
       " 0.06118752278551887,\n",
       " 0.08930258655537197,\n",
       " 0.06891260261249094,\n",
       " 0.07333192940157758,\n",
       " 0.09214080692152905,\n",
       " 0.0919088353377789,\n",
       " 0.04565074037912544,\n",
       " 0.04570468065793665,\n",
       " 0.05875325262104152,\n",
       " 0.09391114215254397,\n",
       " 0.05021513702296284,\n",
       " 0.058767090025614616,\n",
       " 0.07345771819884721,\n",
       " 0.030734203927303395,\n",
       " 0.027280452840383114,\n",
       " 0.08490300294989117,\n",
       " 0.09799489243624872,\n",
       " 0.044501894356377185,\n",
       " 0.09045580141006503,\n",
       " 0.0720708650482843,\n",
       " 0.09674139729574449,\n",
       " 0.3273067573134933,\n",
       " 0.044501894356377185,\n",
       " 0.032131236564430996,\n",
       " 0.02730109969911349,\n",
       " 0.09258686513801245,\n",
       " 0.09034929898317576,\n",
       " 0.04948306020670536,\n",
       " 0.10273224546264999,\n",
       " 0.14564865871709368,\n",
       " 0.012951198098250854,\n",
       " 0.11669724896275001,\n",
       " 0.09196568300847789,\n",
       " 0.06153463482193894,\n",
       " 0.32618508078081676,\n",
       " 0.03087761042596234,\n",
       " 0.03671529164866757,\n",
       " 0.07387968403879981,\n",
       " 0.058767090025614616,\n",
       " 0.09358430425257885,\n",
       " 0.08945232024339016,\n",
       " 0.10259722550365735,\n",
       " 0.14092316357144077,\n",
       " 0.018814874278328377,\n",
       " 0.04208296217909739,\n",
       " 0.1278508261294378,\n",
       " 0.037287056844298526,\n",
       " 0.05353630885492793,\n",
       " 0.0690124789061895,\n",
       " 0.3284617917100437,\n",
       " 0.1326160439686577,\n",
       " 0.08844452842826012,\n",
       " 0.2012900287404819,\n",
       " 0.04921079774613274,\n",
       " 0.08239746204128971,\n",
       " 0.0617263820832454,\n",
       " 0.25054969423116896,\n",
       " 0.07462230499513464,\n",
       " 0.09214080692152905,\n",
       " 0.017426031893972616,\n",
       " 0.0490243671622391,\n",
       " 0.052859342502348514,\n",
       " 0.0952166781989997,\n",
       " 0.14866129489349006,\n",
       " 0.1165977911934818,\n",
       " 0.07859812836296458,\n",
       " 0.559033691908123,\n",
       " 0.06655873686190523,\n",
       " 0.04881228462898593,\n",
       " 0.021327744375949913,\n",
       " 0.11200635516232171,\n",
       " 0.03376447767385522,\n",
       " 0.03811404625137468,\n",
       " 0.052859342502348514,\n",
       " 0.08421655508222475,\n",
       " 0.10496787021123748,\n",
       " 0.24422459453432355,\n",
       " 0.019961108524684013,\n",
       " 0.04339118571763479,\n",
       " 0.05616881493238215,\n",
       " 0.04666659439706858,\n",
       " ...]"
      ]
     },
     "execution_count": 47,
     "metadata": {},
     "output_type": "execute_result"
    }
   ],
   "source": [
    "LOO_Haus_dist"
   ]
  },
  {
   "cell_type": "code",
   "execution_count": 26,
   "metadata": {},
   "outputs": [
    {
     "ename": "NameError",
     "evalue": "name 'd' is not defined",
     "output_type": "error",
     "traceback": [
      "\u001b[0;31m---------------------------------------------------------------------------\u001b[0m",
      "\u001b[0;31mNameError\u001b[0m                                 Traceback (most recent call last)",
      "\u001b[0;32m<ipython-input-26-140ba501118e>\u001b[0m in \u001b[0;36m<module>\u001b[0;34m\u001b[0m\n\u001b[0;32m----> 1\u001b[0;31m \u001b[0mdistances\u001b[0m \u001b[0;34m=\u001b[0m \u001b[0md\u001b[0m\u001b[0;34m.\u001b[0m\u001b[0mPairwiseDistances\u001b[0m\u001b[0;34m(\u001b[0m\u001b[0mpoints\u001b[0m\u001b[0;34m)\u001b[0m\u001b[0;34m\u001b[0m\u001b[0;34m\u001b[0m\u001b[0m\n\u001b[0m",
      "\u001b[0;31mNameError\u001b[0m: name 'd' is not defined"
     ]
    }
   ],
   "source": [
    "distances = d.PairwiseDistances(points)"
   ]
  },
  {
   "cell_type": "code",
   "execution_count": 41,
   "metadata": {},
   "outputs": [
    {
     "data": {
      "text/plain": [
       "array([[-18.723125  ,  10.84743   ],\n",
       "       [ -9.345792  ,   8.883346  ],\n",
       "       [ -9.121344  ,   9.150197  ],\n",
       "       ...,\n",
       "       [ 33.99224   ,  -0.16257808],\n",
       "       [ 32.116604  ,  -0.62010324],\n",
       "       [ 31.266922  ,   0.20793405]], dtype=float32)"
      ]
     },
     "execution_count": 41,
     "metadata": {},
     "output_type": "execute_result"
    }
   ],
   "source": [
    "np.delete(gt_matrix_PCs_2, 0, 0)"
   ]
  },
  {
   "cell_type": "code",
   "execution_count": 40,
   "metadata": {},
   "outputs": [
    {
     "data": {
      "text/plain": [
       "array([[-18.723125  ,  10.84743   ],\n",
       "       [-16.861727  ,  13.065866  ],\n",
       "       [ -9.345792  ,   8.883346  ],\n",
       "       ...,\n",
       "       [ 33.99224   ,  -0.16257808],\n",
       "       [ 32.116604  ,  -0.62010324],\n",
       "       [ 31.266922  ,   0.20793405]], dtype=float32)"
      ]
     },
     "execution_count": 40,
     "metadata": {},
     "output_type": "execute_result"
    }
   ],
   "source": [
    "gt_matrix_PCs_2"
   ]
  },
  {
   "cell_type": "code",
   "execution_count": 54,
   "metadata": {},
   "outputs": [],
   "source": [
    "# needed imports\n",
    "from matplotlib import pyplot as plt\n",
    "from scipy.cluster.hierarchy import dendrogram, linkage\n",
    "import numpy as np"
   ]
  },
  {
   "cell_type": "code",
   "execution_count": 65,
   "metadata": {},
   "outputs": [
    {
     "name": "stdout",
     "output_type": "stream",
     "text": [
      "(5496, 2)\n"
     ]
    }
   ],
   "source": [
    "X = gt_matrix_PCs_2.astype(np.float64)\n",
    "print(X.shape)\n",
    "# generate the linkage matrix\n",
    "Z = linkage(X, 'ward')"
   ]
  },
  {
   "cell_type": "code",
   "execution_count": 66,
   "metadata": {},
   "outputs": [
    {
     "data": {
      "text/plain": [
       "0.9147167546906643"
      ]
     },
     "execution_count": 66,
     "metadata": {},
     "output_type": "execute_result"
    }
   ],
   "source": [
    "from scipy.cluster.hierarchy import cophenet\n",
    "from scipy.spatial.distance import pdist\n",
    "\n",
    "c, coph_dists = cophenet(Z, pdist(X))\n",
    "c"
   ]
  },
  {
   "cell_type": "code",
   "execution_count": 70,
   "metadata": {},
   "outputs": [],
   "source": [
    "from scipy.cluster.hierarchy import fcluster\n",
    "k=200\n",
    "clusters = fcluster(Z, k, criterion='maxclust')"
   ]
  },
  {
   "cell_type": "code",
   "execution_count": 71,
   "metadata": {},
   "outputs": [
    {
     "data": {
      "image/png": "[encoded data removed]",
      "text/plain": [
       "<Figure size 640x480 with 1 Axes>"
      ]
     },
     "metadata": {},
     "output_type": "display_data"
    }
   ],
   "source": [
    "\n",
    "# plt.figure(figsize=(10, 8))\n",
    "plt.scatter(X[:,0], X[:,1], c=clusters, cmap='prism')  # plot points with cluster dependent colors\n",
    "plt.show()"
   ]
  },
  {
   "cell_type": "code",
   "execution_count": 75,
   "metadata": {},
   "outputs": [
    {
     "data": {
      "text/plain": [
       "array([140, 154, 183, ...,  43,  49,  51], dtype=int32)"
      ]
     },
     "execution_count": 75,
     "metadata": {},
     "output_type": "execute_result"
    }
   ],
   "source": [
    "clusters"
   ]
  },
  {
   "cell_type": "code",
   "execution_count": 76,
   "metadata": {},
   "outputs": [],
   "source": [
    "from sklearn.cluster import AgglomerativeClustering"
   ]
  },
  {
   "cell_type": "code",
   "execution_count": 77,
   "metadata": {},
   "outputs": [],
   "source": [
    "clustering = AgglomerativeClustering(200).fit(X)"
   ]
  },
  {
   "cell_type": "code",
   "execution_count": 81,
   "metadata": {},
   "outputs": [
    {
     "data": {
      "text/plain": [
       "{'affinity': 'euclidean',\n",
       " 'compute_full_tree': 'auto',\n",
       " 'connectivity': None,\n",
       " 'distance_threshold': None,\n",
       " 'linkage': 'ward',\n",
       " 'memory': None,\n",
       " 'n_clusters': 200}"
      ]
     },
     "execution_count": 81,
     "metadata": {},
     "output_type": "execute_result"
    }
   ],
   "source": [
    "dir(clustering)\n",
    "clustering.get_params()"
   ]
  },
  {
   "cell_type": "code",
   "execution_count": null,
   "metadata": {},
   "outputs": [],
   "source": []
  }
 ],
 "metadata": {
  "kernelspec": {
   "display_name": "Python 3",
   "language": "python",
   "name": "python3"
  },
  "language_info": {
   "codemirror_mode": {
    "name": "ipython",
    "version": 3
   },
   "file_extension": ".py",
   "mimetype": "text/x-python",
   "name": "python",
   "nbconvert_exporter": "python",
   "pygments_lexer": "ipython3",
   "version": "3.7.7"
  }
 },
 "nbformat": 4,
 "nbformat_minor": 2
}
