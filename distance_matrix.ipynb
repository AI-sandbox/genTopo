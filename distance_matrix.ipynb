{
 "cells": [
  {
   "cell_type": "code",
   "execution_count": 1,
   "metadata": {},
   "outputs": [
    {
     "name": "stderr",
     "output_type": "stream",
     "text": [
      "\n",
      "Bad key \"text.kerning_factor\" on line 4 in\n",
      "/home/harryem/anaconda3/envs/bats_p37/lib/python3.7/site-packages/matplotlib/mpl-data/stylelib/_classic_test_patch.mplstyle.\n",
      "You probably need to get an updated matplotlibrc file from\n",
      "https://github.com/matplotlib/matplotlib/blob/v3.1.3/matplotlibrc.template\n",
      "or from the matplotlib source distribution\n"
     ]
    },
    {
     "name": "stdout",
     "output_type": "stream",
     "text": [
      "Populating the interactive namespace from numpy and matplotlib\n"
     ]
    }
   ],
   "source": [
    "%pylab inline"
   ]
  },
  {
   "cell_type": "code",
   "execution_count": 2,
   "metadata": {},
   "outputs": [],
   "source": [
    "import matplotlib.pyplot as plt\n",
    "from ripser import ripser\n",
    "from persim import plot_diagrams\n",
    "import tadasets\n",
    "import time\n",
    "from scipy.spatial.distance import pdist, squareform"
   ]
  },
  {
   "cell_type": "code",
   "execution_count": 3,
   "metadata": {},
   "outputs": [
    {
     "data": {
      "image/png": "[encoded data removed]",
      "text/plain": [
       "<Figure size 432x288 with 1 Axes>"
      ]
     },
     "metadata": {
      "needs_background": "light"
     },
     "output_type": "display_data"
    }
   ],
   "source": [
    "np.random.seed(9)\n",
    "x = tadasets.dsphere(n=1000, d=1, noise=0.1)\n",
    "\n",
    "plt.scatter(x[:, 0], x[:, 1])\n",
    "plt.axis('equal')\n",
    "plt.show()"
   ]
  },
  {
   "cell_type": "code",
   "execution_count": 4,
   "metadata": {},
   "outputs": [],
   "source": [
    "D = pdist(x, 'euclidean')\n",
    "D = squareform(D)"
   ]
  },
  {
   "cell_type": "code",
   "execution_count": 5,
   "metadata": {},
   "outputs": [
    {
     "name": "stdout",
     "output_type": "stream",
     "text": [
      "pointcloud: 9.525873899459839 sec.\n"
     ]
    }
   ],
   "source": [
    "btime = time.time()\n",
    "result = ripser(x, coeff=2, do_cocycles=True)\n",
    "etime = time.time()\n",
    "pc_time = etime - btime\n",
    "print('pointcloud: {} sec.'.format(pc_time))"
   ]
  },
  {
   "cell_type": "code",
   "execution_count": 6,
   "metadata": {},
   "outputs": [
    {
     "name": "stdout",
     "output_type": "stream",
     "text": [
      "distance matrix: 11.94050121307373 sec.\n"
     ]
    }
   ],
   "source": [
    "btime = time.time()\n",
    "result = ripser(D, coeff=2, do_cocycles=True, distance_matrix=True)\n",
    "etime = time.time()\n",
    "d_time = etime - btime\n",
    "print('distance matrix: {} sec.'.format(d_time))"
   ]
  },
  {
   "cell_type": "code",
   "execution_count": 7,
   "metadata": {},
   "outputs": [
    {
     "data": {
      "image/png": "[encoded data removed]",
      "text/plain": [
       "<Figure size 432x288 with 1 Axes>"
      ]
     },
     "metadata": {
      "needs_background": "light"
     },
     "output_type": "display_data"
    }
   ],
   "source": [
    "diagrams = result['dgms']\n",
    "dgm1 = diagrams[1]\n",
    "idx = np.argmax(dgm1[:, 1] - dgm1[:, 0])\n",
    "plot_diagrams(diagrams, show = False)\n",
    "plt.scatter(dgm1[idx, 0], dgm1[idx, 1], 20, 'k', 'x')\n",
    "plt.title(\"Max 1D birth = %.3g, death = %.3g\"%(dgm1[idx, 0], dgm1[idx, 1]))\n",
    "plt.show()"
   ]
  },
  {
   "cell_type": "markdown",
   "metadata": {},
   "source": [
    "We want to create a diagram\n",
    "\n",
    "$Rips(D2, r0) \\subseteq Rips(D1, r) \\subseteq Rips(D2, r1)$"
   ]
  },
  {
   "cell_type": "code",
   "execution_count": 14,
   "metadata": {},
   "outputs": [],
   "source": [
    "thresh = 0.5\n",
    "D1 = squareform(pdist(x, 'euclidean'))\n",
    "D2 = squareform(pdist(x, 'cityblock'))"
   ]
  },
  {
   "cell_type": "code",
   "execution_count": 15,
   "metadata": {},
   "outputs": [
    {
     "data": {
      "text/plain": [
       "0.706901711708581"
      ]
     },
     "execution_count": 15,
     "metadata": {},
     "output_type": "execute_result"
    }
   ],
   "source": [
    "np.max(D2[D1 <= thresh])"
   ]
  },
  {
   "cell_type": "code",
   "execution_count": 18,
   "metadata": {},
   "outputs": [],
   "source": [
    "def get_thresh_in(D1, D2, thresh):\n",
    "    \"\"\"\n",
    "    Find maximum thresh2 so Rips(D2, thresh2) is contained in Rips(D1, thresh)\n",
    "    \n",
    "    Inputs:\n",
    "        D1 : distance matrix (square or condensed)\n",
    "        D2 : distance matrix (square or condensed)\n",
    "        thresh: threshold for rips complex built on D1\n",
    "        \n",
    "    Returns:\n",
    "        thresh2: threshold for rips complex built on D1\n",
    "    \"\"\"  \n",
    "    D1 = D1.flatten()\n",
    "    D2 = D2.flatten()\n",
    "    \n",
    "    thresh2 = np.inf\n",
    "    for d1, d2 in zip(D1, D2):\n",
    "        if d1 > thresh and d2 <= thresh2:\n",
    "            thresh2 = d2 - np.finfo(float).eps\n",
    "    return thresh2"
   ]
  },
  {
   "cell_type": "code",
   "execution_count": 16,
   "metadata": {},
   "outputs": [],
   "source": [
    "def get_thresh_out(D1, D2, thresh):\n",
    "    \"\"\"\n",
    "    Find minimum thresh2 so Rips(D1, thresh) is contained in Rips(D2, thresh2)\n",
    "    \n",
    "    Inputs:\n",
    "        D1 : distance matrix (square or condensed)\n",
    "        D2 : distance matrix (square or condensed)\n",
    "        thresh: threshold for rips complex built on D1\n",
    "        \n",
    "    Returns:\n",
    "        thresh2: threshold for rips complex built on D1\n",
    "    \"\"\"  \n",
    "    return np.max(D2[D1 <= thresh])"
   ]
  },
  {
   "cell_type": "code",
   "execution_count": 51,
   "metadata": {},
   "outputs": [],
   "source": [
    "def get_inclusion_rips(D1, D2, r):\n",
    "    \"\"\"\n",
    "    Construct a filtration on edges so\n",
    "    Rips(D2, r0) \\subseteq Rips(D1, r) \\subseteq Rips(D2, r1)\n",
    "    \n",
    "    edges in Rips(D2, r0) appear at time 1\n",
    "    edges in Rips(D1, r )  appear at time 2\n",
    "    edges in Rips(D2, r1) appear at time 3\n",
    "    all other edges appear at 4\n",
    "    \n",
    "    Inputs:\n",
    "        D1 : distance matrix (square or condensed)\n",
    "        D2 : distance matrix (square or condensed)\n",
    "        r : threshold for rips complex built on D1\n",
    "        \n",
    "    Returns:\n",
    "        D3: distance matrix specifying inclusion relations\n",
    "    \"\"\"\n",
    "    r0 = get_thresh_in(D1, D2, r)\n",
    "    r1 = get_thresh_out(D1, D2, r)\n",
    "    dshape = D1.shape\n",
    "    D1 = D1.flatten()\n",
    "    D2 = D2.flatten()\n",
    "    \n",
    "    D3 = np.empty(D1.shape, dtype=np.float)\n",
    "    for i, (d1, d2) in enumerate(zip(D1, D2)):\n",
    "        if d2 <= r0:\n",
    "            D3[i] = 1\n",
    "        elif d1 <= r:\n",
    "            D3[i] = 2\n",
    "        elif d2 <= r1:\n",
    "            D3[i] = 3\n",
    "        else:\n",
    "            D3[i] = 4\n",
    "            \n",
    "    return D3.reshape(*dshape)"
   ]
  },
  {
   "cell_type": "code",
   "execution_count": 76,
   "metadata": {},
   "outputs": [],
   "source": [
    "D3 = get_inclusion_rips(D1, D2, 0.5)"
   ]
  },
  {
   "cell_type": "code",
   "execution_count": 77,
   "metadata": {},
   "outputs": [
    {
     "name": "stdout",
     "output_type": "stream",
     "text": [
      "distance matrix: 2.658149003982544 sec.\n"
     ]
    }
   ],
   "source": [
    "btime = time.time()\n",
    "result = ripser(D3, coeff=2, do_cocycles=True, distance_matrix=True)\n",
    "etime = time.time()\n",
    "d_time = etime - btime\n",
    "print('distance matrix: {} sec.'.format(d_time))"
   ]
  },
  {
   "cell_type": "code",
   "execution_count": 78,
   "metadata": {},
   "outputs": [
    {
     "data": {
      "image/png": "[encoded data removed]",
      "text/plain": [
       "<Figure size 640x480 with 1 Axes>"
      ]
     },
     "metadata": {},
     "output_type": "display_data"
    }
   ],
   "source": [
    "diagrams = result['dgms']\n",
    "dgm1 = diagrams[1]\n",
    "idx = np.argmax(dgm1[:, 1] - dgm1[:, 0])\n",
    "plot_diagrams(diagrams, show = False)\n",
    "plt.scatter(dgm1[idx, 0], dgm1[idx, 1], 20, 'k', 'x')\n",
    "plt.title(\"Max 1D birth = %.3g, death = %.3g\"%(dgm1[idx, 0], dgm1[idx, 1]))\n",
    "plt.show()"
   ]
  },
  {
   "cell_type": "code",
   "execution_count": null,
   "metadata": {},
   "outputs": [],
   "source": []
  },
  {
   "cell_type": "markdown",
   "metadata": {},
   "source": [
    "Here are some experiments with sparse matrices... don't really seem to work with Ripser yet."
   ]
  },
  {
   "cell_type": "code",
   "execution_count": 58,
   "metadata": {},
   "outputs": [],
   "source": [
    "?ripser"
   ]
  },
  {
   "cell_type": "code",
   "execution_count": 59,
   "metadata": {},
   "outputs": [],
   "source": [
    "import scipy.sparse"
   ]
  },
  {
   "cell_type": "code",
   "execution_count": 72,
   "metadata": {},
   "outputs": [],
   "source": [
    "D3[D3 == 4] = 0\n",
    "D3s = scipy.sparse.csr_matrix(D3)"
   ]
  },
  {
   "cell_type": "code",
   "execution_count": 73,
   "metadata": {},
   "outputs": [
    {
     "data": {
      "text/plain": [
       "<1000x1000 sparse matrix of type '<class 'numpy.float64'>'\n",
       "\twith 175354 stored elements in Compressed Sparse Row format>"
      ]
     },
     "execution_count": 73,
     "metadata": {},
     "output_type": "execute_result"
    }
   ],
   "source": [
    "D3s"
   ]
  },
  {
   "cell_type": "code",
   "execution_count": 74,
   "metadata": {},
   "outputs": [
    {
     "name": "stdout",
     "output_type": "stream",
     "text": [
      "sparse distance matrix: 0.26553773880004883 sec.\n"
     ]
    }
   ],
   "source": [
    "btime = time.time()\n",
    "result = ripser(D3s, coeff=2, do_cocycles=True, distance_matrix=True)\n",
    "etime = time.time()\n",
    "d_time = etime - btime\n",
    "print('sparse distance matrix: {} sec.'.format(d_time))"
   ]
  },
  {
   "cell_type": "code",
   "execution_count": 75,
   "metadata": {},
   "outputs": [
    {
     "name": "stderr",
     "output_type": "stream",
     "text": [
      "/home/brad/miniconda3/envs/bats/lib/python3.7/site-packages/persim/visuals.py:165: UserWarning: Attempting to set identical left == right == 1.0 results in singular transformations; automatically expanding.\n",
      "  ax.set_xlim([x_down, x_up])\n",
      "/home/brad/miniconda3/envs/bats/lib/python3.7/site-packages/persim/visuals.py:166: UserWarning: Attempting to set identical bottom == top == 1.0 results in singular transformations; automatically expanding.\n",
      "  ax.set_ylim([y_down, y_up])\n"
     ]
    },
    {
     "data": {
      "image/png": "[encoded data removed]",
      "text/plain": [
       "<Figure size 640x480 with 1 Axes>"
      ]
     },
     "metadata": {},
     "output_type": "display_data"
    }
   ],
   "source": [
    "diagrams = result['dgms']\n",
    "dgm1 = diagrams[1]\n",
    "idx = np.argmax(dgm1[:, 1] - dgm1[:, 0])\n",
    "plot_diagrams(diagrams, show = False)\n",
    "plt.scatter(dgm1[idx, 0], dgm1[idx, 1], 20, 'k', 'x')\n",
    "plt.title(\"Max 1D birth = %.3g, death = %.3g\"%(dgm1[idx, 0], dgm1[idx, 1]))\n",
    "plt.show()"
   ]
  },
  {
   "cell_type": "markdown",
   "metadata": {},
   "source": [
    "## Hausdorff Distance"
   ]
  },
  {
   "cell_type": "code",
   "execution_count": 8,
   "metadata": {},
   "outputs": [],
   "source": [
    "from scipy.spatial.distance import directed_hausdorff\n",
    "u = np.array([(1.0, 0.0),\n",
    "              (0.0, 1.0),\n",
    "              (-1.0, 0.0),\n",
    "              (0.0, -1.0)])\n",
    "v = np.array([(2.0, 0.0),\n",
    "              (0.0, 2.0),\n",
    "              (-2.0, 0.0),\n",
    "              (0.0, -4.0)])"
   ]
  },
  {
   "cell_type": "code",
   "execution_count": 9,
   "metadata": {},
   "outputs": [],
   "source": [
    "HD = directed_hausdorff(u, v)"
   ]
  },
  {
   "cell_type": "code",
   "execution_count": 10,
   "metadata": {},
   "outputs": [
    {
     "data": {
      "text/plain": [
       "(2.23606797749979, 3, 0)"
      ]
     },
     "execution_count": 10,
     "metadata": {},
     "output_type": "execute_result"
    }
   ],
   "source": [
    "HD"
   ]
  },
  {
   "cell_type": "code",
   "execution_count": 11,
   "metadata": {},
   "outputs": [
    {
     "data": {
      "text/plain": [
       "array([[ 1.,  0.],\n",
       "       [ 0.,  1.],\n",
       "       [-1.,  0.],\n",
       "       [ 0., -1.]])"
      ]
     },
     "execution_count": 11,
     "metadata": {},
     "output_type": "execute_result"
    }
   ],
   "source": [
    "u"
   ]
  },
  {
   "cell_type": "code",
   "execution_count": 12,
   "metadata": {},
   "outputs": [
    {
     "data": {
      "text/plain": [
       "array([[ 2.,  0.],\n",
       "       [ 0.,  2.],\n",
       "       [-2.,  0.],\n",
       "       [ 0., -4.]])"
      ]
     },
     "execution_count": 12,
     "metadata": {},
     "output_type": "execute_result"
    }
   ],
   "source": [
    "v"
   ]
  },
  {
   "cell_type": "code",
   "execution_count": 13,
   "metadata": {},
   "outputs": [],
   "source": [
    "? directed_hausdorff"
   ]
  },
  {
   "cell_type": "code",
   "execution_count": 29,
   "metadata": {},
   "outputs": [
    {
     "name": "stdout",
     "output_type": "stream",
     "text": [
      "(5496, 2)\n"
     ]
    }
   ],
   "source": [
    "# gt_matrix = np.load('/home/harryem/data/HimalGen/gt_matrix.npy')\n",
    "# gt_matrix_PCs = np.load('/home/harryem/data/HimalGen/gt_matrix_PCs.npy')\n",
    "# gt_matrix_PCs_50 = np.load('/home/harryem/data/HimalGen/gt_matrix_PCs_50.npy')\n",
    "gt_matrix_PCs_2 = np.load('/home/harryem/data/HimalGen/gt_matrix_PCs_2.npy').T\n",
    "print(gt_matrix_PCs_2.shape)"
   ]
  },
  {
   "cell_type": "code",
   "execution_count": 46,
   "metadata": {},
   "outputs": [],
   "source": [
    "LOO_Haus_dist = []\n",
    "\n",
    "for i in range(gt_matrix_PCs_2.shape[0]):\n",
    "\n",
    "    D0 = directed_hausdorff(np.expand_dims(gt_matrix_PCs_2[i], axis=0), np.delete(gt_matrix_PCs_2, i, 0))\n",
    "    LOO_Haus_dist.append(D0[0])"
   ]
  },
  {
   "cell_type": "code",
   "execution_count": 1,
   "metadata": {},
   "outputs": [],
   "source": [
    "# LOO_Haus_dist"
   ]
  },
  {
   "cell_type": "code",
   "execution_count": null,
   "metadata": {},
   "outputs": [],
   "source": []
  }
 ],
 "metadata": {
  "kernelspec": {
   "display_name": "Python 3",
   "language": "python",
   "name": "python3"
  },
  "language_info": {
   "codemirror_mode": {
    "name": "ipython",
    "version": 3
   },
   "file_extension": ".py",
   "mimetype": "text/x-python",
   "name": "python",
   "nbconvert_exporter": "python",
   "pygments_lexer": "ipython3",
   "version": "3.7.7"
  }
 },
 "nbformat": 4,
 "nbformat_minor": 2
}
